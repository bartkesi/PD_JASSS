{
 "metadata": {
  "name": "",
  "signature": "sha256:f65fd5b89331ee818220132966437982fbc14bfbe6a93aba6ca90712275deb3a"
 },
 "nbformat": 3,
 "nbformat_minor": 0,
 "worksheets": [
  {
   "cells": [
    {
     "cell_type": "code",
     "collapsed": false,
     "input": [
      "import random\n",
      "\n",
      "def mean(seq):\n",
      "    n = len(seq)\n",
      "    return sum(seq)/float(n)\n",
      "\n",
      "def transpose(seqseq): #simple 2-dimensional transpose\n",
      "    return zip(*seqseq)\n",
      "\n",
      "class RandomPlayer:\n",
      "    #This is in its default version = identical to RandomMover with p defection = 0.5 and move=move and record does nothing.\n",
      "    def __init__(self, p=0.5):\n",
      "        self.p_defect = p\n",
      "    def move(self, game):\n",
      "        return random.uniform(0,1) < self.p_defect\n",
      "    def record(self, game):\n",
      "        # Python uses the keyword \"pass\" to indicate : Do nothing!\n",
      "        pass\n",
      "    \n",
      "class SimpleGame:\n",
      "    def __init__(self, player1, player2, payoffmat):\n",
      "        #initialize instance attributes __init__ is written with double underscore!\n",
      "        self.players = [player1, player2]\n",
      "        self.payoffmat = payoffmat\n",
      "        self.history = list()\n",
      "    def run(self, game_iter=4):\n",
      "        # unpack the two players\n",
      "        player1, player2 = self.players\n",
      "        # each iteration, get new moves and append these to history\n",
      "        for iteration in range(game_iter):\n",
      "            newmoves = player1.move(self), player2.move(self)\n",
      "            self.history.append(newmoves)\n",
      "            # prompt players to record the game played (i.e., 'self')\n",
      "            player1.record(self) ; player2.record(self)\n",
      "    def payoff(self):\n",
      "        # unpack the two players\n",
      "        player1, player2 = self.players\n",
      "        # generate a payoff pair for each game iteration\n",
      "        payoffs = (self.payoffmat[m1][m2] for (m1, m2) in self.history)\n",
      "        # transpose to get a payoff sequence for each player\n",
      "        pay1, pay2 = transpose(payoffs)\n",
      "        # return a mapping of each player to its mean payoff\n",
      "        return { player1:mean(pay1), player2:mean(pay2) }\n",
      "\n",
      "    \n",
      "## GAME: SimpleGame with RandomPlayer\n",
      "# create a payoff matrix and two players\n",
      "PAYOFFMAT = [ [(3,3),(0,5)] , [(5,0),(1,1)] ]\n",
      "player1 = RandomPlayer()\n",
      "player2 = RandomPlayer()\n",
      "# Create and run the game\n",
      "game = SimpleGame(player1, player2, PAYOFFMAT)\n",
      "game.run()\n",
      "# retrieve and print the payoffs\n",
      "payoffs = game.payoff()\n",
      "print \"Player1 payoff: \", payoffs[player1]\n",
      "print \"Player2 payoff: \", payoffs[player2]"
     ],
     "language": "python",
     "metadata": {},
     "outputs": [
      {
       "output_type": "stream",
       "stream": "stdout",
       "text": [
        "Player1 payoff:  1.75\n",
        "Player2 payoff:  3.0\n"
       ]
      }
     ],
     "prompt_number": 13
    },
    {
     "cell_type": "code",
     "collapsed": false,
     "input": [],
     "language": "python",
     "metadata": {},
     "outputs": [],
     "prompt_number": 10
    },
    {
     "cell_type": "code",
     "collapsed": false,
     "input": [],
     "language": "python",
     "metadata": {},
     "outputs": []
    }
   ],
   "metadata": {}
  }
 ]
}